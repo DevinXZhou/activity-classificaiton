{
 "cells": [
  {
   "cell_type": "markdown",
   "metadata": {},
   "source": [
    "# Big Data: Tools and Methods"
   ]
  },
  {
   "cell_type": "markdown",
   "metadata": {},
   "source": [
    "# Assignment 4 - Xin Zhou"
   ]
  },
  {
   "cell_type": "markdown",
   "metadata": {},
   "source": [
    "<font color=blue>\n",
    "Titantic Dataset<br>\n",
    "Source: http://biostat.mc.vanderbilt.edu/wiki/pub/Main/DataSets/titanic3info.txt<br>\n",
    "The titanic data set describes the survival status of individual passengers on the Titanic. It does not contain information for the crew, but it does contain actual and estimated ages for al- most 80% of the passengers."
   ]
  },
  {
   "cell_type": "markdown",
   "metadata": {},
   "source": [
    "|Feature|Explain|\n",
    "|------|------|\n",
    "| pclass | Passenger Class (1 = 1st; 2 = 2nd; 3 = 3rd)   |\n",
    "|survival|Survival (0 = No; 1 = Yes)|\n",
    "|name|Name|\n",
    "|sex|Sex|\n",
    "|age|Age|\n",
    "|sibsp|Number of Siblings/Spouses Aboard|\n",
    "|parch|Number of Parents/Children Aboard|\n",
    "|ticket|Ticket Number|\n",
    "|fare|Passenger Fare|\n",
    "|cabin|Cabin|\n",
    "|embarked|Port of Embarkation (C = Cherbourg; Q = Queenstown; S = Southampton)|\n",
    "|boat|Lifeboat|\n",
    "|body|Body Identification Number|\n",
    "|home.dest|Home/Destination|"
   ]
  },
  {
   "cell_type": "markdown",
   "metadata": {},
   "source": [
    "<font color=blue>Notes:<br>\n",
    "Pclass is a proxy for socio-economic status 1st ~ Upper; 2nd ~ Middle; 3rd ~ Lower\n",
    "Age is in Years; Fractional if Age less than One (1). If the Age is Estimated, it is in the form xx.5"
   ]
  },
  {
   "cell_type": "markdown",
   "metadata": {},
   "source": [
    "<font color=green> #1. Did age have any affect on the survival of the passengers? Divide the passengers into age groups spanning 5 years each - [0, 5), [5, 10), [10, 15), ... . For each group compute the number of passengers in each group. Then compute the percent of survivors in each group.<br>\n"
   ]
  },
  {
   "cell_type": "code",
   "execution_count": 1,
   "metadata": {},
   "outputs": [
    {
     "name": "stdout",
     "output_type": "stream",
     "text": [
      "root\n",
      " |-- survived: string (nullable = true)\n",
      " |-- sex: string (nullable = true)\n",
      " |-- age: double (nullable = true)\n",
      " |-- pclass: string (nullable = true)\n",
      " |-- name: string (nullable = true)\n",
      " |-- sibsp: integer (nullable = true)\n",
      " |-- parch: integer (nullable = true)\n",
      " |-- fare: double (nullable = true)\n",
      " |-- cabin: string (nullable = true)\n",
      " |-- embarked: string (nullable = true)\n",
      " |-- boat: string (nullable = true)\n",
      " |-- body: integer (nullable = true)\n",
      " |-- homeDest: string (nullable = true)\n",
      "\n",
      "+--------+------+----+------+--------------------+-----+-----+--------+--------+--------+----+----+--------+\n",
      "|survived|   sex| age|pclass|                name|sibsp|parch|    fare|   cabin|embarked|boat|body|homeDest|\n",
      "+--------+------+----+------+--------------------+-----+-----+--------+--------+--------+----+----+--------+\n",
      "|       y|female|29.0| first|Allen, Miss. Elis...|    0|    0| 24160.0|211.3375|      B5|   S|   2|    null|\n",
      "|       y|  male|null| first|Allison, Master. ...|    1|    2|113781.0|  151.55| C22 C26|   S|  11|    null|\n",
      "|       n|female| 2.0| first|Allison, Miss. He...|    1|    2|113781.0|  151.55| C22 C26|   S|null|    null|\n",
      "+--------+------+----+------+--------------------+-----+-----+--------+--------+--------+----+----+--------+\n",
      "only showing top 3 rows\n",
      "\n"
     ]
    }
   ],
   "source": [
    "import org.apache.spark.sql.types.{StructField, StructType, StringType, DoubleType, IntegerType}\n",
    "val schema = new StructType(Array(\n",
    "  new StructField(\"survived\", StringType, true),\n",
    "  new StructField(\"sex\", StringType, true),\n",
    "  new StructField(\"age\", DoubleType, true),\n",
    "  new StructField(\"pclass\", StringType, true),\n",
    "  new StructField(\"name\", StringType, true),\n",
    "  new StructField(\"sibsp\", IntegerType, true),\n",
    "  new StructField(\"parch\", IntegerType, true),\n",
    "  new StructField(\"fare\", DoubleType, true),\n",
    "  new StructField(\"cabin\", StringType, true),\n",
    "  new StructField(\"embarked\", StringType, true),\n",
    "  new StructField(\"boat\", StringType, true),\n",
    "  new StructField(\"body\", IntegerType, true),\n",
    "  new StructField(\"homeDest\", StringType, true)))\n",
    "\n",
    "// val titanicDf = spark.read.option(\"header\", true).option(\"inferSchema\",true).option(\"sep\", \"\\t\").csv(\"titanic.tsv\")\n",
    "// In original tsv file, home.dest name was modified into homeDest to avoid compile error\n",
    "val titanicDf = spark.read.format(\"csv\").schema(schema).option(\"header\",true).option(\"sep\", \"\\t\").load(\"titanic.tsv\")\n",
    "\n",
    "titanicDf.printSchema\n",
    "titanicDf.show(3)"
   ]
  },
  {
   "cell_type": "code",
   "execution_count": 2,
   "metadata": {},
   "outputs": [
    {
     "name": "stdout",
     "output_type": "stream",
     "text": [
      "+---------------+-----+-------------+\n",
      "|(age_above * 5)|count|survival_rate|\n",
      "+---------------+-----+-------------+\n",
      "|           null|  264|         0.28|\n",
      "|            0.0|   50|         0.64|\n",
      "|            5.0|   31|        0.548|\n",
      "|           10.0|   27|        0.407|\n",
      "|           15.0|  116|        0.388|\n",
      "|           20.0|  184|        0.386|\n",
      "|           25.0|  160|         0.35|\n",
      "|           30.0|  132|        0.409|\n",
      "|           35.0|  100|         0.44|\n",
      "|           40.0|   69|         0.29|\n",
      "|           45.0|   66|        0.485|\n",
      "|           50.0|   43|        0.488|\n",
      "|           55.0|   27|        0.407|\n",
      "|           60.0|   27|         0.37|\n",
      "|           65.0|    5|          0.0|\n",
      "|           70.0|    6|          0.0|\n",
      "|           75.0|    1|          1.0|\n",
      "|           80.0|    1|          1.0|\n",
      "+---------------+-----+-------------+\n",
      "\n"
     ]
    }
   ],
   "source": [
    "import org.apache.spark.ml.feature.Bucketizer\n",
    "import org.apache.spark.sql.functions._\n",
    "\n",
    "val splits = (0 to 20).map(_ * 5.0).toArray\n",
    "val bucketizer = new Bucketizer().setInputCol(\"age\").setOutputCol(\"age_above\").setSplits(splits)\n",
    "val bucketed = bucketizer.transform(titanicDf)\n",
    "bucketed.groupBy(\"age_above\").agg(count(\"survived\").alias(\"count\"),\n",
    "                                  round((count(when(col(\"survived\")===\"y\",1))/count(\"survived\")),3).\n",
    "                                  alias(\"survival_rate\")).sort(\"age_above\").\n",
    "                                    select(col(\"age_above\")*5, col(\"count\"), col(\"survival_rate\")).show()"
   ]
  },
  {
   "cell_type": "markdown",
   "metadata": {
    "collapsed": true
   },
   "source": [
    "<font color=blue>For the following problems divide the data into a training set and a test set. After you have created your models in problems 2-4 compute the percent false positives and false negatives you get from your model on the test set.\n"
   ]
  },
  {
   "cell_type": "markdown",
   "metadata": {
    "collapsed": true
   },
   "source": [
    "<font color=green>#2. Logistic on age. Using logistic regression with independent variable age and dependent variable survived create a model to classify passengers as survivors."
   ]
  },
  {
   "cell_type": "code",
   "execution_count": 3,
   "metadata": {},
   "outputs": [
    {
     "name": "stdout",
     "output_type": "stream",
     "text": [
      "+------+--------+--------+-----+--------------------+--------------------+----------+\n",
      "|   age|survived|features|label|       rawPrediction|         probability|prediction|\n",
      "+------+--------+--------+-----+--------------------+--------------------+----------+\n",
      "|0.1667|       y|[0.1667]|  1.0|[0.29849381055224...|[0.57407427506285...|       0.0|\n",
      "|0.3333|       n|[0.3333]|  0.0|[0.29913280095508...|[0.57423050912405...|       0.0|\n",
      "|0.4167|       y|[0.4167]|  1.0|[0.29945267970416...|[0.57430871436789...|       0.0|\n",
      "|0.6667|       y|[0.6667]|  1.0|[0.30041154885608...|[0.57454312026661...|       0.0|\n",
      "|0.8333|       y|[0.8333]|  1.0|[0.30105053925892...|[0.57469930975920...|       0.0|\n",
      "+------+--------+--------+-----+--------------------+--------------------+----------+\n",
      "only showing top 5 rows\n",
      "\n"
     ]
    }
   ],
   "source": [
    "import org.apache.spark.ml.classification.LogisticRegression\n",
    "import org.apache.spark.ml.feature.RFormula\n",
    "\n",
    "val ageCleaned = titanicDf.select(\"age\",\"survived\").na.drop(\"any\",Seq(\"age\")).na.drop(\"any\",Seq(\"survived\")) //clean null data\n",
    "val formula = new RFormula().setFormula(\"survived ~ age\")\n",
    "val preparedDF = formula.fit(ageCleaned).transform(ageCleaned)\n",
    "val Array(train, test) = preparedDF.randomSplit(Array(0.7, 0.3)) \n",
    "val lr =  new LogisticRegression()\n",
    "val lrModel = lr.fit(train)\n",
    "val ageLrPredict = lrModel.evaluate(test).predictions\n",
    "ageLrPredict.show(5)\n",
    "\n",
    "val label_predict_AgeLR = ageLrPredict.select(\"label\",\"prediction\")//for question 5"
   ]
  },
  {
   "cell_type": "markdown",
   "metadata": {},
   "source": [
    "<font color=green>#3. Logistic on age, sex and pclass. Same as problem two but use independent variables sex, age, and pclass. Since sex and pclass are categorical they need special treatment."
   ]
  },
  {
   "cell_type": "code",
   "execution_count": 4,
   "metadata": {},
   "outputs": [
    {
     "name": "stdout",
     "output_type": "stream",
     "text": [
      "+----+------+------+--------+------------------+-----+--------------------+--------------------+----------+\n",
      "| age|   sex|pclass|survived|          features|label|       rawPrediction|         probability|prediction|\n",
      "+----+------+------+--------+------------------+-----+--------------------+--------------------+----------+\n",
      "|0.75|female| third|       y|[0.75,0.0,1.0,0.0]|  1.0|[-1.3494368343811...|[0.20596245773852...|       1.0|\n",
      "|0.75|  male| third|       n|[0.75,1.0,1.0,0.0]|  0.0|[1.08192737601279...|[0.74685854804200...|       0.0|\n",
      "| 1.0|female| third|       n| [1.0,0.0,1.0,0.0]|  0.0|[-1.3387414995218...|[0.20771709468526...|       1.0|\n",
      "| 1.0|  male| third|       y| [1.0,1.0,1.0,0.0]|  1.0|[1.09262271087211...|[0.74887527336629...|       0.0|\n",
      "| 2.0|female|second|       y|     (4,[0],[2.0])|  1.0|[-2.4116583150749...|[0.08228800089114...|       1.0|\n",
      "+----+------+------+--------+------------------+-----+--------------------+--------------------+----------+\n",
      "only showing top 5 rows\n",
      "\n"
     ]
    }
   ],
   "source": [
    "val dataCleaned = titanicDf.select(\"age\",\"sex\",\"pclass\",\"survived\").na.drop(\"any\",Seq(\"age\")).\n",
    "                            na.drop(\"any\",Seq(\"sex\")).na.drop(\"any\",Seq(\"pclass\"))\n",
    "val formula = new RFormula().setFormula(\"survived ~ age + sex + pclass\")\n",
    "val preparedDF = formula.fit(dataCleaned).transform(dataCleaned)\n",
    "val Array(train, test) = preparedDF.randomSplit(Array(0.7, 0.3)) \n",
    "val lr =  new LogisticRegression()\n",
    "val lrModel = lr.fit(train)\n",
    "val lrPredict = lrModel.evaluate(test).predictions\n",
    "lrPredict.show(5)\n",
    "\n",
    "val label_predict_LR = lrPredict.select(\"label\", \"prediction\")//for question 5"
   ]
  },
  {
   "cell_type": "markdown",
   "metadata": {},
   "source": [
    "<font color=green>#4. Decision tree. Instead of using logistic regression use Decisiontree with the independent variables sex, age, and pclass."
   ]
  },
  {
   "cell_type": "code",
   "execution_count": 5,
   "metadata": {},
   "outputs": [
    {
     "name": "stdout",
     "output_type": "stream",
     "text": [
      "+----+------+------+--------+------------------+-----+------------------+\n",
      "| age|   sex|pclass|survived|          features|label|        prediction|\n",
      "+----+------+------+--------+------------------+-----+------------------+\n",
      "|0.75|female| third|       y|[0.75,0.0,1.0,0.0]|  1.0|0.8571428571428571|\n",
      "|0.75|  male| third|       n|[0.75,1.0,1.0,0.0]|  0.0|0.3333333333333333|\n",
      "| 1.0|female| third|       n| [1.0,0.0,1.0,0.0]|  0.0|0.8571428571428571|\n",
      "| 1.0|  male| third|       y| [1.0,1.0,1.0,0.0]|  1.0|0.3333333333333333|\n",
      "| 2.0|female|second|       y|     (4,[0],[2.0])|  1.0|               1.0|\n",
      "+----+------+------+--------+------------------+-----+------------------+\n",
      "only showing top 5 rows\n",
      "\n"
     ]
    }
   ],
   "source": [
    "import org.apache.spark.ml.regression.DecisionTreeRegressionModel\n",
    "import org.apache.spark.ml.regression.DecisionTreeRegressor\n",
    "\n",
    "//Using the same train data for decision tree as in logistic regression\n",
    "\n",
    "val dt =  new DecisionTreeRegressor().setLabelCol(\"label\").setFeaturesCol(\"features\")\n",
    "val dtModel = dt.fit(train)\n",
    "\n",
    "val predictionsDT = dtModel.transform(test)\n",
    "predictionsDT.show(5)\n",
    "\n",
    "import org.apache.spark.ml.evaluation.RegressionEvaluator\n",
    "val evaluator = new RegressionEvaluator().setLabelCol(\"label\").setPredictionCol(\"prediction\").setMetricName(\"rmse\")\n",
    "\n",
    "val rmse = evaluator.evaluate(predictionsDT)\n",
    "// println(\"Root Mean Squared Error (RMSE) on test data = \" + rmse)\n",
    "\n",
    "// println(\"Learned regression tree model:\\n\" + dtModel.toDebugString)\n",
    "\n",
    "val label_predict_DT = predictionsDT.\n",
    "        select(\"label\", \"prediction\").\n",
    "        withColumn(\"prediction\", \n",
    "        when(col(\"prediction\") > 0.5, 1).otherwise(0)) //for question 5, threshhold with 0.5"
   ]
  },
  {
   "cell_type": "markdown",
   "metadata": {},
   "source": [
    "<font color=green>#5. How do the models created in problems 2-4 compare based on the false positives & false negatives the produce on your test data."
   ]
  },
  {
   "cell_type": "code",
   "execution_count": 6,
   "metadata": {},
   "outputs": [
    {
     "name": "stdout",
     "output_type": "stream",
     "text": [
      "70% data for training, 30% data for testing\n",
      "------------------------------------\n",
      "Age feature logistic regression:\n",
      "Total samples: 339\n",
      "False positive: 0\n",
      "False negative: 145\n",
      "Misclassification rate: 42.8%\n",
      "------------------------------------\n",
      "Logistic regression:\n",
      "Total samples: 312\n",
      "False positive: 34\n",
      "False negative: 35\n",
      "Misclassification rate: 22.1%\n",
      "------------------------------------\n",
      "Decision tree:\n",
      "Total samples: 312\n",
      "False positive: 18\n",
      "False negative: 54\n",
      "Misclassification rate: 23.1%\n"
     ]
    }
   ],
   "source": [
    "println(\"70% data for training, 30% data for testing\")\n",
    "println(\"------------------------------------\")\n",
    "val FP2 = label_predict_AgeLR.filter(\"label=0\").filter(\"prediction=1\").count()\n",
    "val FN2 = label_predict_AgeLR.filter(\"label=1\").filter(\"prediction=0\").count()\n",
    "val total2 = label_predict_AgeLR.count()\n",
    "println(\"Age feature logistic regression:\")\n",
    "println(\"Total samples: \"+ total2)\n",
    "println(\"False positive: \"+ FP2)\n",
    "println(\"False negative: \"+ FN2)\n",
    "println(\"Misclassification rate: \" + math.round((FP2+FN2)*1000.0/total2.toDouble)/10.0+\"%\")\n",
    "println(\"------------------------------------\")\n",
    "\n",
    "val FP3 = label_predict_LR.filter(\"label=0\").filter(\"prediction=1\").count()\n",
    "val FN3 = label_predict_LR.filter(\"label=1\").filter(\"prediction=0\").count()\n",
    "val total3 = label_predict_LR.count()\n",
    "println(\"Logistic regression:\")\n",
    "println(\"Total samples: \"+ total3)\n",
    "println(\"False positive: \"+ FP3)\n",
    "println(\"False negative: \"+ FN3)\n",
    "println(\"Misclassification rate: \" + math.round((FP3+FN3)*1000.0/total3.toDouble)/10.0+\"%\")\n",
    "println(\"------------------------------------\")\n",
    "\n",
    "val FP4 = label_predict_DT.filter(\"label=0\").filter(\"prediction=1\").count()\n",
    "val FN4 = label_predict_DT.filter(\"label=1\").filter(\"prediction=0\").count()\n",
    "val total4 = label_predict_DT.count()\n",
    "println(\"Decision tree:\")\n",
    "println(\"Total samples: \"+ total4)\n",
    "println(\"False positive: \"+ FP4)\n",
    "println(\"False negative: \"+ FN4)\n",
    "println(\"Misclassification rate: \" + math.round((FP4+FN4)*1000.0/total4.toDouble)/10.0+\"%\")"
   ]
  },
  {
   "cell_type": "markdown",
   "metadata": {},
   "source": [
    "## Comment:<br>\n",
    "Using only one feature of age with logistic regression model has a really high misclassification rate, but it has 0 false positive which seems like the logistic regression model predicts all passagers on the titanic dead. It is not performing well using only one feature on the logistic regression model<br>\n",
    "Using three features sex, age, pclass on logistic regression model and decision tree model has much lower misclassification rate comparing to a one feature model. Applying the same train data on two different models of logistic regression model and decision tree model almost have the same misclassification rate. However, decision tree has much higher false positives than logistic regression(decision tree with prediction threshold of 0.5). Logistic regression model has more false positive than decision tree.<br>\n",
    "More test with the threshold, if I change the decision tree prediction threshold to be larger than 0.5, the FN increases, FP and misclassification rate both decreases. If threshold is smaller than 0.5, the FP and misclassification rate both increases, but FN decreases. For current random data set, if threshold is set to be 0.45, the decision tree almost have the same FN, FP and misclassification rate as logistic regression."
   ]
  },
  {
   "cell_type": "code",
   "execution_count": null,
   "metadata": {
    "collapsed": true
   },
   "outputs": [],
   "source": []
  }
 ],
 "metadata": {
  "kernelspec": {
   "display_name": "Apache Toree - Scala",
   "language": "scala",
   "name": "apache_toree_scala"
  },
  "language_info": {
   "file_extension": ".scala",
   "name": "scala",
   "version": "2.11.8"
  }
 },
 "nbformat": 4,
 "nbformat_minor": 2
}
