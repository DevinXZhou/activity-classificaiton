{
 "cells": [
  {
   "cell_type": "markdown",
   "metadata": {},
   "source": [
    "# Big Data: Tools and Methods"
   ]
  },
  {
   "cell_type": "markdown",
   "metadata": {},
   "source": [
    "# Assignment 2 - Xin Zhou"
   ]
  },
  {
   "cell_type": "markdown",
   "metadata": {},
   "source": [
    "<font color=blue>Requirement: In problems 1 - 4 you are to use higher order functions (map, reduce, filter, ...) to solve the problems. You do not need to use for or while statements. The solutions with map, reduce and/ or filter may not be as efficient as solutions using a for or while. However the core operations in Hadoop are map and reduce. While there is a difference in the Hadoop mapReduce from what you will use hear it is important to get used to using those constructs.\n",
    "In each of the solutions to the problems you are to include tests that show that your code works."
   ]
  },
  {
   "cell_type": "markdown",
   "metadata": {},
   "source": [
    "<font color=green>The below function is a Test function for all problem sets, inputs are two arrays of test inputs for the test function and hand calculated results, it prints out the correct rate."
   ]
  },
  {
   "cell_type": "code",
   "execution_count": 43,
   "metadata": {},
   "outputs": [
    {
     "data": {
      "text/plain": [
       "defined \u001b[32mfunction\u001b[39m \u001b[36mtest\u001b[39m"
      ]
     },
     "execution_count": 43,
     "metadata": {},
     "output_type": "execute_result"
    }
   ],
   "source": [
    "def test[T](inputs:Array[T], results:Array[T], f:T=>T){//can only test for 1 argument 1 result function\n",
    "    if (inputs.length != results.length){throw new IllegalArgumentException(\"The dimensions of inputs mismatch\") }\n",
    "    var counts:Int = 0\n",
    "    for ( (inputElement, trueResultElement) <- (inputs zip results)){\n",
    "        var testResult = f(inputElement)\n",
    "        if (testResult == trueResultElement){counts+=1}\n",
    "        println(\"Input: \"+inputElement+\" | Output: \"+testResult+\" | Correct Output: \"+trueResultElement)\n",
    "    }\n",
    "    println(\"Correct Rate: \"+counts*100/inputs.length+\"%\")\n",
    "}"
   ]
  },
  {
   "cell_type": "markdown",
   "metadata": {},
   "source": [
    "<font color=red>#1. <font color=green>If we list all the natural numbers below 20 that are multiples of 3 or 5 but not multiples both of 3 and 5, we get 3, 5, 6, 9, 10, 12, 18. The sum of these multiples is 63. Write a function, sum_multiples_3_5, that returns the sum of the multiples of 3 and 5 but not both less than N."
   ]
  },
  {
   "cell_type": "code",
   "execution_count": 44,
   "metadata": {},
   "outputs": [
    {
     "name": "stdout",
     "output_type": "stream",
     "text": [
      "Input: 16 | Output: 45 | Correct Output: 45\n",
      "Input: 20 | Output: 63 | Correct Output: 63\n",
      "Input: 25 | Output: 128 | Correct Output: 128\n",
      "Input: 31 | Output: 180 | Correct Output: 180\n",
      "Correct Rate: 100%\n"
     ]
    },
    {
     "data": {
      "text/plain": [
       "defined \u001b[32mfunction\u001b[39m \u001b[36msum_multiples_3_5\u001b[39m"
      ]
     },
     "execution_count": 44,
     "metadata": {},
     "output_type": "execute_result"
    }
   ],
   "source": [
    "def sum_multiples_3_5(n:Int ): Int ={\n",
    "  if (n < 0){throw new IllegalArgumentException(\"The input is not a natural number\") }\n",
    "  return (0 to n-1).toArray.filter(x => (x % 3 == 0 || x % 5 == 0) && x % 15 != 0).reduce(_ + _)\n",
    "}\n",
    "\n",
    "// Test for sum_multiples_3_5\n",
    "//Input:16, Correct ouput: 3+5+6+9+10+12 = 45\n",
    "//Input:20, Correct ouput: 3+5+6+9+10+12+18 = 63\n",
    "//Input:25, Correct ouput: 3+5+6+9+10+12+18+20+21+24 = 128\n",
    "//Input:31, Correct ouput: 3+5+6+9+10+12+18+20+21+24+25+27 = 180\n",
    "test(Array(16,20,25,31), Array(45,63,128,180),sum_multiples_3_5)"
   ]
  },
  {
   "cell_type": "markdown",
   "metadata": {},
   "source": [
    "<font color=red>#2. <font color=green>Write a function, pattern_count with two arguments. The first arguments is a string, lets call it text, and the second argument is also a string, call it pattern. The function pattern_count returns the number of times the pattern occurs in the text. For example:<br>\n",
    "pattern_count(“abababa”, “aba”) == 3 <br>\n",
    "pattern_count(“aaaaa”, “aa”) == 4 <br> \n",
    "pattern_count(“Abcde”, “abc”) == 0 <br>"
   ]
  },
  {
   "cell_type": "code",
   "execution_count": 47,
   "metadata": {},
   "outputs": [
    {
     "data": {
      "text/plain": [
       "defined \u001b[32mfunction\u001b[39m \u001b[36mpattern_count\u001b[39m\n",
       "\u001b[36mres46_1\u001b[39m: \u001b[32mInt\u001b[39m = \u001b[32m3\u001b[39m\n",
       "\u001b[36mres46_2\u001b[39m: \u001b[32mInt\u001b[39m = \u001b[32m4\u001b[39m\n",
       "\u001b[36mres46_3\u001b[39m: \u001b[32mInt\u001b[39m = \u001b[32m0\u001b[39m"
      ]
     },
     "execution_count": 47,
     "metadata": {},
     "output_type": "execute_result"
    }
   ],
   "source": [
    "def pattern_count(text:String, pattern:String): Int= text.sliding(pattern.length).count(window => window == pattern)\n",
    "//Test for pattern_count\n",
    "pattern_count(\"abababa\", \"aba\") //should return 3\n",
    "pattern_count(\"aaaaa\", \"aa\")    //should return 4\n",
    "pattern_count(\"Abcde\", \"abc\")   //should return 0"
   ]
  },
  {
   "cell_type": "markdown",
   "metadata": {},
   "source": [
    "<font color=red>#3. <font color=green>Implement factorial using “to” and “reduceLeft” without a loop or recursion."
   ]
  },
  {
   "cell_type": "code",
   "execution_count": 51,
   "metadata": {},
   "outputs": [
    {
     "name": "stdout",
     "output_type": "stream",
     "text": [
      "Input: 5 | Output: 120 | Correct Output: 120\n",
      "Input: 6 | Output: 720 | Correct Output: 720\n",
      "Input: 7 | Output: 5040 | Correct Output: 5040\n",
      "Input: 10 | Output: 3628800 | Correct Output: 3628800\n",
      "Correct Rate: 100%\n"
     ]
    },
    {
     "data": {
      "text/plain": [
       "defined \u001b[32mfunction\u001b[39m \u001b[36mfactorial\u001b[39m"
      ]
     },
     "execution_count": 51,
     "metadata": {},
     "output_type": "execute_result"
    }
   ],
   "source": [
    "def factorial(n: Int): Int = {\n",
    "    if (n < 1){throw new IllegalArgumentException(\"The input is not a natural number\")}\n",
    "    return (1 to n).product\n",
    "}\n",
    "//Test for factorial\n",
    "//Input:5, Correct ouput: 1*2*3*4*5 = 120\n",
    "//Input:6, Correct ouput: 1*2*3*4*5*6 = 720\n",
    "//Input:7, Correct ouput: 1*2*3*4*5*6*7 = 5040\n",
    "//Input:10, Correct ouput: 1*2*3*4*5*6*7*8*9*10 = 3628800\n",
    "test(Array(5,6,7,10),Array(120,720,5040,3628800), factorial)\n",
    "    "
   ]
  },
  {
   "cell_type": "markdown",
   "metadata": {},
   "source": [
    "<font color=red>#4. <font color=green>Write a function that receives a collection of strings and a map from strings to integers. Return a collection of integers that are values of the map corresponding to one of the strings in the collection. For example, given Array(\"Tom\", \"Fred\", \"Harry\") and Map(\"Tom\" -> 3, \"Dick\" -> 4, \"Harry\" -> 5), return Array(3, 5)."
   ]
  },
  {
   "cell_type": "code",
   "execution_count": 17,
   "metadata": {},
   "outputs": [
    {
     "data": {
      "text/plain": [
       "defined \u001b[32mfunction\u001b[39m \u001b[36mmapLookup\u001b[39m\n",
       "\u001b[36mres16_1\u001b[39m: \u001b[32mArray\u001b[39m[\u001b[32mInt\u001b[39m] = \u001b[33mArray\u001b[39m(\u001b[32m3\u001b[39m, \u001b[32m5\u001b[39m)\n",
       "\u001b[36mres16_2\u001b[39m: \u001b[32mArray\u001b[39m[\u001b[32mInt\u001b[39m] = \u001b[33mArray\u001b[39m(\u001b[32m1\u001b[39m, \u001b[32m2\u001b[39m, \u001b[32m3\u001b[39m)"
      ]
     },
     "execution_count": 17,
     "metadata": {},
     "output_type": "execute_result"
    }
   ],
   "source": [
    "def mapLookup(names: Array[String], dictionary: Map[String, Int]): Array[Int]=\n",
    "dictionary.filterKeys(key => names.contains(key)).values.toArray\n",
    "//Test for mapLookup\n",
    "//Case 1, names: Array(\"Tom\", \"Fred\", \"Harry\"), dictionary: Map(\"Tom\" -> 3, \"Dick\" -> 4, \"Harry\" -> 5)\n",
    "//Correct Output: Array(3, 5)\n",
    "mapLookup(Array(\"Tom\", \"Fred\", \"Harry\"), Map(\"Tom\" -> 3, \"Dick\" -> 4, \"Harry\" -> 5))\n",
    "\n",
    "//Case 2, names: Array(\"Dog\", \"Cat\", \"Bird\", \"Rabbit\"), dictionary: Map(\"Cat\" -> 1, \n",
    "//\"Snake\" -> 4, \"Dog\" -> 2, \"Bird\" ->3)\n",
    "//Correct Output: Array(1, 2, 3)\n",
    "mapLookup(Array(\"Dog\", \"Cat\", \"Bird\", \"Rabbit\"), Map(\"Cat\" -> 1, \"Snake\" -> 4, \"Dog\" -> 2, \"Bird\" ->3))"
   ]
  },
  {
   "cell_type": "markdown",
   "metadata": {},
   "source": [
    "<font color=red>#5. <font color=green>Implement a function sampleNoRepeats with two arguments. The first argument is a range, the second an integer, n, greater that zero. The function returns n random numbers in the given range with no repeats."
   ]
  },
  {
   "cell_type": "code",
   "execution_count": 1,
   "metadata": {},
   "outputs": [
    {
     "data": {
      "text/plain": [
       "defined \u001b[32mfunction\u001b[39m \u001b[36msampleNoRepeats\u001b[39m\n",
       "\u001b[36mres0_1\u001b[39m: \u001b[32mArray\u001b[39m[\u001b[32mInt\u001b[39m] = \u001b[33mArray\u001b[39m(\u001b[32m7\u001b[39m, \u001b[32m15\u001b[39m, \u001b[32m6\u001b[39m, \u001b[32m9\u001b[39m)\n",
       "\u001b[36mres0_2\u001b[39m: \u001b[32mArray\u001b[39m[\u001b[32mInt\u001b[39m] = \u001b[33mArray\u001b[39m(\u001b[32m14\u001b[39m, \u001b[32m11\u001b[39m, \u001b[32m13\u001b[39m, \u001b[32m17\u001b[39m)\n",
       "\u001b[36mres0_3\u001b[39m: \u001b[32mArray\u001b[39m[\u001b[32mInt\u001b[39m] = \u001b[33mArray\u001b[39m(\u001b[32m11\u001b[39m, \u001b[32m18\u001b[39m, \u001b[32m15\u001b[39m, \u001b[32m13\u001b[39m, \u001b[32m12\u001b[39m, \u001b[32m10\u001b[39m, \u001b[32m14\u001b[39m, \u001b[32m17\u001b[39m, \u001b[32m20\u001b[39m, \u001b[32m19\u001b[39m)"
      ]
     },
     "execution_count": 1,
     "metadata": {},
     "output_type": "execute_result"
    }
   ],
   "source": [
    "def sampleNoRepeats(range: Range.Inclusive, n: Int): Array[Int]={\n",
    "    if (n <= 0 || range.length < n){throw new IllegalArgumentException(\"Invalid input, the input number n has to be smaller or equal than the range\") }\n",
    "    val r = new scala.util.Random()\n",
    "    return r.shuffle(range).toArray.take(n)\n",
    "}\n",
    "//Test for sampleNoRepeats\n",
    "//sampleNoRepeats(5 to 20, 4), should be in range of 5 to 20, no repeats\n",
    "//sampleNoRepeats(10 to 20, 4), should be in range of 10 to 20, no repeats\n",
    "//sampleNoRepeats(10 to 20, 10), should be in range of 10 to 20, no repeats\n",
    "sampleNoRepeats(5 to 20, 4)\n",
    "sampleNoRepeats(10 to 20, 4)\n",
    "sampleNoRepeats(10 to 20, 10)"
   ]
  },
  {
   "cell_type": "markdown",
   "metadata": {},
   "source": [
    "<font color=red>Question 6~9\n",
    "#6. <font color=green>Create an array with random 100,000 integers between 0 and 50,000. Compute the mean value of the array, call it M. Take a random sample of 100 different elements (sampling without replacement) of the array and compute the mean of the sample. What is the error?\n",
    "<font color=red>#7. <font color=green>Using the same array as in#6 take 1,000 samples of 100 random elements of the array. Compute the mean of each sample. Find the value r where interval (M-r, M+r) contains 95% of the means of the 1000 samples.\n",
    "<font color=red>#8. <font color=green>Repeat #7 but use the sample size of 1,000 rather than 100.\n",
    "<font color=red>#9. <font color=green>Repeat #8 but use the sample size of 10,000 rather than 100."
   ]
  },
  {
   "cell_type": "code",
   "execution_count": 13,
   "metadata": {},
   "outputs": [
    {
     "name": "stdout",
     "output_type": "stream",
     "text": [
      "The mean of sample of 100 numbers comparing to the mean of whole data has error of 477, the error rate is 1.91%\n"
     ]
    },
    {
     "data": {
      "text/plain": [
       "defined \u001b[32mfunction\u001b[39m \u001b[36mrandom_Multi_Ints\u001b[39m\n",
       "\u001b[36mrandomInts\u001b[39m: \u001b[32mArray\u001b[39m[\u001b[32mInt\u001b[39m] = \u001b[33mArray\u001b[39m(\n",
       "  \u001b[32m21116\u001b[39m,\n",
       "  \u001b[32m26296\u001b[39m,\n",
       "  \u001b[32m34478\u001b[39m,\n",
       "  \u001b[32m14328\u001b[39m,\n",
       "  \u001b[32m42839\u001b[39m,\n",
       "  \u001b[32m5137\u001b[39m,\n",
       "  \u001b[32m32865\u001b[39m,\n",
       "  \u001b[32m32607\u001b[39m,\n",
       "  \u001b[32m11926\u001b[39m,\n",
       "  \u001b[32m27004\u001b[39m,\n",
       "  \u001b[32m17248\u001b[39m,\n",
       "\u001b[33m...\u001b[39m\n",
       "\u001b[36mmean100k\u001b[39m: \u001b[32mDouble\u001b[39m = \u001b[32m25012.259710000457\u001b[39m\n",
       "defined \u001b[32mfunction\u001b[39m \u001b[36mrandom_Sample_Mean\u001b[39m\n",
       "\u001b[36msample100_Mean\u001b[39m: \u001b[32mDouble\u001b[39m = \u001b[32m24535.400000000005\u001b[39m\n",
       "\u001b[36merror\u001b[39m: \u001b[32mLong\u001b[39m = \u001b[32m477L\u001b[39m\n",
       "\u001b[36merrorRate\u001b[39m: \u001b[32mDouble\u001b[39m = \u001b[32m1.91\u001b[39m"
      ]
     },
     "execution_count": 13,
     "metadata": {},
     "output_type": "execute_result"
    }
   ],
   "source": [
    "//#6\n",
    "def random_Multi_Ints(start:Int, end:Int, counts:Int):(Array[Int], Double)={\n",
    "    val r = new scala.util.Random\n",
    "    val list =  Array.fill(counts){start + r.nextInt( (end - start) + 1 )}\n",
    "    val mean = list.map(_.toDouble/counts).reduce(_ + _)\n",
    "    return (list, mean)\n",
    "}\n",
    "val (randomInts, mean100k) = random_Multi_Ints(0, 50000, 100000);\n",
    "// println(\"randomInts has \"+randomInts.length+\" values\") //check if the output is desired size of array, 100000 values\n",
    "// println(\"randomInts maximum value: \"+randomInts.max)  //check if the random values are within range, min >= 0\n",
    "// println(\"randomInts minumum value: \"+randomInts.min)  //check if the random values are within range, max <= 50000\n",
    "\n",
    "def random_Sample_Mean(data: Array[Int], size: Int): Double={\n",
    "    val r = new scala.util.Random()\n",
    "    var list = (r.shuffle(0 to data.length-1).take(size) map data).toArray\n",
    "//     println(\"created list\" + size+\" has \"+list.length+\" values\") //check if the output is desired size of array, 100 values\n",
    "//     println(\"created list\" + size+\" maximum value: \"+list.max)  //check if the random values are within range, min >= 0\n",
    "//     println(\"created list\" + size+\" minumum value: \"+list.min)  //check if the random values are within range, max <= 50000\n",
    "    return list.map(_.toDouble/size).reduce(_ + _)\n",
    "}\n",
    "var sample100_Mean = random_Sample_Mean(randomInts, 100);\n",
    "var error = math.round(math.abs(mean100k-sample100_Mean))\n",
    "var errorRate = math.round(error*10000/mean100k).toDouble/100\n",
    "println(\"The mean of sample of 100 numbers comparing to the mean of whole data has error of \"+\n",
    "        error+\", the error rate is \"+errorRate+\"%\")\n",
    "\n"
   ]
  },
  {
   "cell_type": "code",
   "execution_count": 15,
   "metadata": {},
   "outputs": [
    {
     "data": {
      "text/plain": [
       "defined \u001b[32mfunction\u001b[39m \u001b[36mtwoSigma\u001b[39m\n",
       "\u001b[36mr7\u001b[39m: \u001b[32mInt\u001b[39m = \u001b[32m2866\u001b[39m\n",
       "\u001b[36mr8\u001b[39m: \u001b[32mInt\u001b[39m = \u001b[32m930\u001b[39m\n",
       "\u001b[36mr9\u001b[39m: \u001b[32mInt\u001b[39m = \u001b[32m271\u001b[39m"
      ]
     },
     "execution_count": 15,
     "metadata": {},
     "output_type": "execute_result"
    }
   ],
   "source": [
    "//#7~9\n",
    "//In a normal distributed random values, For a 95.45% of samples, it has a interval of (μ - 2σ < x < μ + 2σ)\n",
    "//finding the standard deviation would have the range which is 2σ\n",
    "def twoSigma(data: Array[Int], size: Int, numOfSamples: Int): Int={\n",
    "    val means = Array.fill(numOfSamples){random_Sample_Mean(data, size)}\n",
    "    val meanOfMeans = means.map(_.toDouble/numOfSamples).reduce(_ + _)\n",
    "    val devs = means.map(eachMean => (eachMean - meanOfMeans) * (eachMean - meanOfMeans))\n",
    "    val stddev = Math.sqrt(devs.map(_.toDouble/(numOfSamples-1)).reduce(_ + _))\n",
    "    return (2*stddev).toInt\n",
    "}\n",
    "val r7 = twoSigma(randomInts, 100, 1000) //sample size of 100, 1000 samples\n",
    "val r8 = twoSigma(randomInts, 1000, 1000) //sample size of 1000, 1000 samples\n",
    "val r9 = twoSigma(randomInts, 10000, 1000) //sample size of 10000, 1000 samples\n"
   ]
  },
  {
   "cell_type": "markdown",
   "metadata": {},
   "source": [
    "Results: <br>\n",
    "--------------\n",
    "r7 = 2866<br>\n",
    "r8 = 930<br>\n",
    "r9 = 271<br>\n",
    "Comment:<br>\n",
    "--------------\n",
    "We can tell that as we increase the size of samples of means, the range become smaller and smaller closing the average of means."
   ]
  },
  {
   "cell_type": "code",
   "execution_count": 1,
   "metadata": {},
   "outputs": [
    {
     "data": {
      "text/plain": [
       "\u001b[36mdata\u001b[39m: \u001b[32mArray\u001b[39m[\u001b[32mDouble\u001b[39m] = \u001b[33mArray\u001b[39m(\u001b[32m1.2\u001b[39m, \u001b[32m2.3\u001b[39m, \u001b[32m4.5\u001b[39m, \u001b[32m6.7\u001b[39m)"
      ]
     },
     "execution_count": 1,
     "metadata": {},
     "output_type": "execute_result"
    }
   ],
   "source": [
    "var data=Array(1.2,2.3,4.5,6.7)"
   ]
  },
  {
   "cell_type": "code",
   "execution_count": null,
   "metadata": {
    "collapsed": true
   },
   "outputs": [],
   "source": []
  }
 ],
 "metadata": {
  "kernelspec": {
   "display_name": "Scala",
   "language": "scala",
   "name": "scala"
  },
  "language_info": {
   "codemirror_mode": "text/x-scala",
   "file_extension": ".scala",
   "mimetype": "text/x-scala",
   "name": "scala211",
   "nbconvert_exporter": "script",
   "pygments_lexer": "scala",
   "version": "2.11.11"
  }
 },
 "nbformat": 4,
 "nbformat_minor": 2
}
