{
 "cells": [
  {
   "cell_type": "markdown",
   "metadata": {},
   "source": [
    "# Big Data: Tools and Methods"
   ]
  },
  {
   "cell_type": "markdown",
   "metadata": {},
   "source": [
    "# Assignment 1 - Xin Zhou"
   ]
  },
  {
   "cell_type": "markdown",
   "metadata": {},
   "source": [
    "#1. If we list all the natural numbers below 20 that are multiples of 3 or 5 but not multiples both of 3 and 5, we get 3, 5, 6, 9, 10, 12, 18. The sum of these multiples is 63. Write a function, sum_multiples_3_5, that returns the sum of the multiples of 3 and 5 less than N."
   ]
  },
  {
   "cell_type": "code",
   "execution_count": 2,
   "metadata": {},
   "outputs": [
    {
     "data": {
      "text/plain": [
       "defined \u001b[32mfunction\u001b[39m \u001b[36msum_multiples_3_5\u001b[39m\n",
       "\u001b[36mres1_1\u001b[39m: \u001b[32mInt\u001b[39m = \u001b[32m63\u001b[39m"
      ]
     },
     "execution_count": 2,
     "metadata": {},
     "output_type": "execute_result"
    }
   ],
   "source": [
    "def sum_multiples_3_5(n:Int ): Int ={\n",
    "  var sum:Int = 0\n",
    "  for(i <- 0 to n-1){\n",
    "    if(i%3 == 0 && i%5 != 0){sum += i }\n",
    "    if(i%5 == 0 && i%3 != 0){sum += i }\n",
    "\n",
    "  }\n",
    "  return sum\n",
    "}\n",
    "sum_multiples_3_5(20)"
   ]
  },
  {
   "cell_type": "markdown",
   "metadata": {},
   "source": [
    "#2. Write a function, patternCount with two arguments. The first arguments is a string, lets call it text, and the second argument is also a string, call it pattern. The function patternCount returns the number of times the pattern occurs in the text. For example\n",
    "pattern_count(“abababa”, “aba”) == 3 \n",
    "pattern_count(“aaaaa”, “aa”) == 4 \n",
    "pattern_count(“Abcde”, “abc”) == 0"
   ]
  },
  {
   "cell_type": "code",
   "execution_count": 3,
   "metadata": {},
   "outputs": [
    {
     "data": {
      "text/plain": [
       "defined \u001b[32mfunction\u001b[39m \u001b[36mpattern_count\u001b[39m\n",
       "\u001b[36mres2_1\u001b[39m: \u001b[32mInt\u001b[39m = \u001b[32m3\u001b[39m\n",
       "\u001b[36mres2_2\u001b[39m: \u001b[32mInt\u001b[39m = \u001b[32m4\u001b[39m\n",
       "\u001b[36mres2_3\u001b[39m: \u001b[32mInt\u001b[39m = \u001b[32m0\u001b[39m"
      ]
     },
     "execution_count": 3,
     "metadata": {},
     "output_type": "execute_result"
    }
   ],
   "source": [
    "def pattern_count(text:String, pattern:String): Int={\n",
    "    var tLen = text.length()\n",
    "    var pLen = pattern.length()\n",
    "    var count = 0;\n",
    "    for(index <- 0 to tLen-pLen){\n",
    "        if(text.substring(index, index+pLen)==pattern){count += 1 }\n",
    "    }\n",
    "    return count\n",
    "}\n",
    "pattern_count(\"abababa\", \"aba\")\n",
    "pattern_count(\"aaaaa\", \"aa\")\n",
    "pattern_count(\"Abcde\", \"abc\")"
   ]
  },
  {
   "cell_type": "markdown",
   "metadata": {},
   "source": [
    "#3. Write a function product(s:String) that returns the product of the Unicode codes of all letters in string s without using a loop."
   ]
  },
  {
   "cell_type": "code",
   "execution_count": 15,
   "metadata": {},
   "outputs": [
    {
     "data": {
      "text/plain": [
       "defined \u001b[32mfunction\u001b[39m \u001b[36mproduct\u001b[39m\n",
       "\u001b[36mres14_1\u001b[39m: \u001b[32mString\u001b[39m = \u001b[32m\"77906181276000\"\u001b[39m"
      ]
     },
     "execution_count": 15,
     "metadata": {},
     "output_type": "execute_result"
    }
   ],
   "source": [
    "def product(s: String): String = { \n",
    "    var arr = s.map(_.toInt)map(_.toString)\n",
    "    var p = BigInt(\"1\")\n",
    "    for (n <- arr){\n",
    "        p *= BigInt(n)\n",
    "    }\n",
    "    return p.toString;\n",
    "}\n",
    "product(\"Bigdata\")"
   ]
  },
  {
   "cell_type": "markdown",
   "metadata": {},
   "source": [
    "#4. Write a function no Duplicates (ints:Array[Int]) that returns an array all values from the array ints with duplicates removed."
   ]
  },
  {
   "cell_type": "code",
   "execution_count": 18,
   "metadata": {},
   "outputs": [
    {
     "data": {
      "text/plain": [
       "defined \u001b[32mfunction\u001b[39m \u001b[36mnoDuplicates\u001b[39m\n",
       "\u001b[36mresult\u001b[39m: \u001b[32mArray\u001b[39m[\u001b[32mInt\u001b[39m] = \u001b[33mArray\u001b[39m(\u001b[32m5\u001b[39m, \u001b[32m1\u001b[39m, \u001b[32m2\u001b[39m, \u001b[32m3\u001b[39m, \u001b[32m4\u001b[39m)"
      ]
     },
     "execution_count": 18,
     "metadata": {},
     "output_type": "execute_result"
    }
   ],
   "source": [
    "def noDuplicates(ints:Array[Int]): Array[Int] = {\n",
    "    return ints.toSet.toArray\n",
    "}\n",
    "var result = noDuplicates(Array(1,2,2,3,4,4,5))"
   ]
  },
  {
   "cell_type": "markdown",
   "metadata": {},
   "source": [
    "#5. Create an array that contains the value 0.00001f repeated 1000000 times. Sum up all the elements of the array. What is the result? How big is the error?"
   ]
  },
  {
   "cell_type": "code",
   "execution_count": 33,
   "metadata": {
    "scrolled": true
   },
   "outputs": [
    {
     "data": {
      "text/plain": [
       "\u001b[36marr\u001b[39m: \u001b[32mArray\u001b[39m[\u001b[32mFloat\u001b[39m] = \u001b[33mArray\u001b[39m(\n",
       "  \u001b[32m1.0E-5F\u001b[39m,\n",
       "  \u001b[32m1.0E-5F\u001b[39m,\n",
       "  \u001b[32m1.0E-5F\u001b[39m,\n",
       "  \u001b[32m1.0E-5F\u001b[39m,\n",
       "  \u001b[32m1.0E-5F\u001b[39m,\n",
       "  \u001b[32m1.0E-5F\u001b[39m,\n",
       "  \u001b[32m1.0E-5F\u001b[39m,\n",
       "  \u001b[32m1.0E-5F\u001b[39m,\n",
       "  \u001b[32m1.0E-5F\u001b[39m,\n",
       "  \u001b[32m1.0E-5F\u001b[39m,\n",
       "  \u001b[32m1.0E-5F\u001b[39m,\n",
       "\u001b[33m...\u001b[39m\n",
       "\u001b[36marrSum\u001b[39m: \u001b[32mFloat\u001b[39m = \u001b[32m9.917345F\u001b[39m\n",
       "\u001b[36merror\u001b[39m: \u001b[32mBigDecimal\u001b[39m = 0.08265495300293"
      ]
     },
     "execution_count": 33,
     "metadata": {},
     "output_type": "execute_result"
    }
   ],
   "source": [
    "var arr = Array.fill(1000000){0.00001f}\n",
    "var arrSum = arr.sum\n",
    "var error = BigDecimal(10.0f) - BigDecimal(arrSum)"
   ]
  },
  {
   "cell_type": "markdown",
   "metadata": {},
   "source": [
    "#6. Using Scala compute the sums 0.0001f + 8000.0f and 0.000000001 + 90000000. What is the result? How big is the error?"
   ]
  },
  {
   "cell_type": "code",
   "execution_count": 20,
   "metadata": {},
   "outputs": [
    {
     "name": "stdout",
     "output_type": "stream",
     "text": [
      "sums 0.0001f + 8000.0f = 8000.0f\n",
      "Error for 0.0001 + 8000.0 is 0.00009999999747378752\n",
      "sums 0.000000001 + 90000000 = 9.0E7\n",
      "Error for 0.000000001 + 90000000 is 1.0E-9\n"
     ]
    },
    {
     "data": {
      "text/plain": [
       "\u001b[36mr1\u001b[39m: \u001b[32mFloat\u001b[39m = \u001b[32m8000.0F\u001b[39m\n",
       "\u001b[36merr1\u001b[39m: \u001b[32mBigDecimal\u001b[39m = 0.00009999999747378752\n",
       "\u001b[36mr2\u001b[39m: \u001b[32mDouble\u001b[39m = \u001b[32m9.0E7\u001b[39m\n",
       "\u001b[36merr2\u001b[39m: \u001b[32mBigDecimal\u001b[39m = 1.0E-9"
      ]
     },
     "execution_count": 20,
     "metadata": {},
     "output_type": "execute_result"
    }
   ],
   "source": [
    "var r1 = 0.0001f + 8000.0f \n",
    "println(\"sums 0.0001f + 8000.0f = \" + r1.toString+\"f\")\n",
    "var err1 = BigDecimal(0.0001f)+BigDecimal(8000.0f) - BigDecimal(r1)\n",
    "println(\"Error for 0.0001 + 8000.0 is \"+err1.toString)\n",
    "\n",
    "var r2 = 0.000000001 + 90000000\n",
    "println(\"sums 0.000000001 + 90000000 = \" + r2.toString)\n",
    "var err2 = BigDecimal(0.000000001)+BigDecimal(90000000) - BigDecimal(r2)\n",
    "println(\"Error for 0.000000001 + 90000000 is \"+err2.toString)"
   ]
  },
  {
   "cell_type": "markdown",
   "metadata": {},
   "source": [
    "#7. Write a function random Ints(n:Int,range:Int) that returns an array of n integers all between 0 and range."
   ]
  },
  {
   "cell_type": "code",
   "execution_count": 9,
   "metadata": {},
   "outputs": [
    {
     "data": {
      "text/plain": [
       "defined \u001b[32mfunction\u001b[39m \u001b[36mrandomInts\u001b[39m\n",
       "\u001b[36mresult\u001b[39m: \u001b[32mArray\u001b[39m[\u001b[32mInt\u001b[39m] = \u001b[33mArray\u001b[39m(\u001b[32m10\u001b[39m, \u001b[32m14\u001b[39m, \u001b[32m39\u001b[39m, \u001b[32m48\u001b[39m, \u001b[32m5\u001b[39m)"
      ]
     },
     "execution_count": 9,
     "metadata": {},
     "output_type": "execute_result"
    }
   ],
   "source": [
    "def randomInts(n:Int,range:Int): Array[Int]={\n",
    "    var result = Array.fill(n){0}\n",
    "    val r = scala.util.Random\n",
    "    for(i <- 0 to n-1){\n",
    "        result(i) = r.nextInt(range)\n",
    "    }\n",
    "    return result\n",
    "}\n",
    "var result = randomInts(5, 50)"
   ]
  },
  {
   "cell_type": "markdown",
   "metadata": {},
   "source": [
    "#8. Create three files with random integers in the range 0 to Int.MaxValue/2. The first file contains 1,000 integers, the second 100,000 integers, the third 10,000,000 integers. Write scala code to find the average and median value for each file. What are the average and median value for each file? How long does it take compute those values for each file?"
   ]
  },
  {
   "cell_type": "code",
   "execution_count": 32,
   "metadata": {},
   "outputs": [
    {
     "name": "stdout",
     "output_type": "stream",
     "text": [
      "For file1.txt :\n",
      "Average is 5.3156646540999985E8\n",
      "Median is 324975516\n",
      "Elapsed time: 3ms\n",
      "-------------------------------\n",
      "For file2.txt :\n",
      "Average is 5.373574214714749E8\n",
      "Median is 459393951\n",
      "Elapsed time: 66ms\n",
      "-------------------------------\n",
      "For file3.txt :\n",
      "Average is 5.368236262546402E8\n",
      "Median is 116572276\n",
      "Elapsed time: 13s\n",
      "-------------------------------\n"
     ]
    },
    {
     "data": {
      "text/plain": [
       "\u001b[32mimport \u001b[39m\u001b[36mjava.io._\n",
       "\u001b[39m\n",
       "\u001b[36mpw1\u001b[39m: \u001b[32mPrintWriter\u001b[39m = java.io.PrintWriter@14f3f193\n",
       "\u001b[36mresult1\u001b[39m: \u001b[32mArray\u001b[39m[\u001b[32mInt\u001b[39m] = \u001b[33mArray\u001b[39m(\n",
       "  \u001b[32m545192727\u001b[39m,\n",
       "  \u001b[32m624557298\u001b[39m,\n",
       "  \u001b[32m95299628\u001b[39m,\n",
       "  \u001b[32m122266929\u001b[39m,\n",
       "  \u001b[32m816650112\u001b[39m,\n",
       "  \u001b[32m1068926765\u001b[39m,\n",
       "  \u001b[32m373675137\u001b[39m,\n",
       "  \u001b[32m567153187\u001b[39m,\n",
       "  \u001b[32m44229320\u001b[39m,\n",
       "  \u001b[32m917415645\u001b[39m,\n",
       "  \u001b[32m919919289\u001b[39m,\n",
       "\u001b[33m...\u001b[39m\n",
       "\u001b[36mpw2\u001b[39m: \u001b[32mPrintWriter\u001b[39m = java.io.PrintWriter@73707b48\n",
       "\u001b[36mresult2\u001b[39m: \u001b[32mArray\u001b[39m[\u001b[32mInt\u001b[39m] = \u001b[33mArray\u001b[39m(\n",
       "  \u001b[32m543589590\u001b[39m,\n",
       "  \u001b[32m705819311\u001b[39m,\n",
       "  \u001b[32m1010871186\u001b[39m,\n",
       "  \u001b[32m951255496\u001b[39m,\n",
       "  \u001b[32m815447904\u001b[39m,\n",
       "  \u001b[32m827608908\u001b[39m,\n",
       "  \u001b[32m987117944\u001b[39m,\n",
       "  \u001b[32m137391314\u001b[39m,\n",
       "  \u001b[32m382123445\u001b[39m,\n",
       "  \u001b[32m747057312\u001b[39m,\n",
       "  \u001b[32m1033397032\u001b[39m,\n",
       "\u001b[33m...\u001b[39m\n",
       "\u001b[36mpw3\u001b[39m: \u001b[32mPrintWriter\u001b[39m = java.io.PrintWriter@13a498a\n",
       "\u001b[36mresult3\u001b[39m: \u001b[32mArray\u001b[39m[\u001b[32mInt\u001b[39m] = \u001b[33mArray\u001b[39m(\n",
       "  \u001b[32m914543214\u001b[39m,\n",
       "  \u001b[32m649428138\u001b[39m,\n",
       "  \u001b[32m1009523164\u001b[39m,\n",
       "  \u001b[32m815575542\u001b[39m,\n",
       "  \u001b[32m252029548\u001b[39m,\n",
       "  \u001b[32m598349660\u001b[39m,\n",
       "  \u001b[32m625123325\u001b[39m,\n",
       "  \u001b[32m62963660\u001b[39m,\n",
       "  \u001b[32m1073257913\u001b[39m,\n",
       "  \u001b[32m1002904058\u001b[39m,\n",
       "  \u001b[32m590008908\u001b[39m,\n",
       "\u001b[33m...\u001b[39m\n",
       "\u001b[32mimport \u001b[39m\u001b[36mscala.io.Source._\n",
       "\u001b[39m\n",
       "\u001b[36mlines1\u001b[39m: \u001b[32mIterator\u001b[39m[\u001b[32mString\u001b[39m] = non-empty iterator\n",
       "\u001b[36mlines2\u001b[39m: \u001b[32mIterator\u001b[39m[\u001b[32mString\u001b[39m] = non-empty iterator\n",
       "\u001b[36mlines3\u001b[39m: \u001b[32mIterator\u001b[39m[\u001b[32mString\u001b[39m] = non-empty iterator\n",
       "defined \u001b[32mfunction\u001b[39m \u001b[36mrollingAvgMedian\u001b[39m"
      ]
     },
     "execution_count": 32,
     "metadata": {},
     "output_type": "execute_result"
    }
   ],
   "source": [
    "import java.io._\n",
    "val pw1 = new PrintWriter(new File(\"file1.txt\" ))\n",
    "var result1 = randomInts(1000, Int.MaxValue/2)\n",
    "pw1.write(result1.mkString(\" \"))\n",
    "pw1.close\n",
    "val pw2 = new PrintWriter(new File(\"file2.txt\" ))\n",
    "var result2 = randomInts(100000, Int.MaxValue/2)\n",
    "pw2.write(result2.mkString(\" \"))\n",
    "pw2.close\n",
    "val pw3 = new PrintWriter(new File(\"file3.txt\" ))\n",
    "var result3 = randomInts(10000000, Int.MaxValue/2)\n",
    "pw3.write(result3.mkString(\" \"))\n",
    "pw3.close\n",
    "import scala.io.Source._\n",
    "val lines1 = fromFile(\"file1.txt\").getLines\n",
    "val lines2 = fromFile(\"file2.txt\").getLines\n",
    "val lines3 = fromFile(\"file3.txt\").getLines\n",
    "\n",
    "def rollingAvgMedian(filename:String){\n",
    "    val lines = fromFile(filename).getLines\n",
    "    for (line <- lines){\n",
    "        val t0 = System.currentTimeMillis()\n",
    "        var arr: Array[Int] = line.split(\" \").map(_.toInt)\n",
    "        arr.sortWith(_ < _)\n",
    "        var size = arr.length\n",
    "        var N = size.toDouble\n",
    "        var avg:Double = 0\n",
    "        for (number <- arr){\n",
    "            avg += number.toDouble/N\n",
    "        }\n",
    "        var median = (BigInt(arr(size/2-1))+ BigInt(arr(size/2)))/2  //find the middle two numbers in sorted array, in order to calculate median     \n",
    "        val t1 = System.currentTimeMillis()\n",
    "        println(\"For \"+filename+\" :\")\n",
    "        println(\"Average is \"+avg)\n",
    "        println(\"Median is \"+median)\n",
    "        if (t1 - t0 < 1000){\n",
    "            println(\"Elapsed time: \" + (t1 - t0) + \"ms\")\n",
    "        }\n",
    "        else{println(\"Elapsed time: \" + (t1 - t0)/1000 + \"s\")}      \n",
    "    }\n",
    "    println(\"-------------------------------\")\n",
    "}\n",
    "rollingAvgMedian(\"file1.txt\")\n",
    "rollingAvgMedian(\"file2.txt\")\n",
    "rollingAvgMedian(\"file3.txt\")"
   ]
  },
  {
   "cell_type": "markdown",
   "metadata": {},
   "source": [
    "#8 Results & Comments\n",
    "--------------------------------\n",
    "Using intgers: such as array of 1,2,3,....10, average = 1/10 + 2/10 + ...10/10 accumulating<br>\n",
    "For file1.txt :<br>\n",
    "Average is 5.3156646540999985E8<br>\n",
    "Median is 324975516<br>\n",
    "Elapsed time: 3ms<br>\n",
    "<br>\n",
    "For file2.txt :<br>\n",
    "Average is 5.373574214714749E8<br>\n",
    "Median is 459393951<br>\n",
    "Elapsed time: 66ms<br>\n",
    "<br>\n",
    "For file3.txt :<br>\n",
    "Average is 5.368236262546402E8<br>\n",
    "Median is 116572276<br>\n",
    "Elapsed time: 13s<br>\n",
    "<br>\n",
    "Using BigDecimal would result in 28 seconds for dealing with file 3\n"
   ]
  },
  {
   "cell_type": "markdown",
   "metadata": {},
   "source": [
    "#9. Write a function min max (values:Array[Int]) that returns a pair containing the smallest and the largest values in the array."
   ]
  },
  {
   "cell_type": "code",
   "execution_count": 73,
   "metadata": {},
   "outputs": [
    {
     "data": {
      "text/plain": [
       "defined \u001b[32mfunction\u001b[39m \u001b[36mminmax\u001b[39m\n",
       "\u001b[36mp\u001b[39m: \u001b[32mArray\u001b[39m[\u001b[32mInt\u001b[39m] = \u001b[33mArray\u001b[39m(\u001b[32m1\u001b[39m, \u001b[32m10\u001b[39m)"
      ]
     },
     "execution_count": 73,
     "metadata": {},
     "output_type": "execute_result"
    }
   ],
   "source": [
    "def minmax(values:Array[Int]): Array[Int]={\n",
    "    if(values.isEmpty) throw new java.lang.UnsupportedOperationException(\"array is empty\")\n",
    "    var pair = Array(Int.MaxValue, Int.MinValue)\n",
    "    for(n <- values){\n",
    "        pair(0) = math.min(n, pair(0))\n",
    "        pair(1) = math.max(n, pair(1))\n",
    "    }\n",
    "    return pair\n",
    "}\n",
    "var p = minmax(Array(2,1,5,8,9,3,4,10,6))"
   ]
  },
  {
   "cell_type": "markdown",
   "metadata": {},
   "source": [
    "#10. Make a class Car with read-only properties for manufacturer, model name, and model year, and a read-write property for the license plate. Supply four constructors. All require the manufacturer and model name. Optionally, model year and license plate can also be specified in the constructor. If not, the model year is set to -1 and the license plate to the empty string. Which constructor are you choosing as the primary constructor? Why?"
   ]
  },
  {
   "cell_type": "code",
   "execution_count": 21,
   "metadata": {},
   "outputs": [
    {
     "data": {
      "text/plain": [
       "defined \u001b[32mclass\u001b[39m \u001b[36mCar\u001b[39m\n",
       "\u001b[36mmyCar\u001b[39m: \u001b[32mCar\u001b[39m = $sess.cmd20Wrapper$Helper$Car@2da2b241\n",
       "\u001b[36mmyCar2\u001b[39m: \u001b[32mCar\u001b[39m = $sess.cmd20Wrapper$Helper$Car@3b05f3dd"
      ]
     },
     "execution_count": 21,
     "metadata": {},
     "output_type": "execute_result"
    }
   ],
   "source": [
    "class Car(manufacturer: String, modelName: String, modelYear: Int = -1, licensePlace: String = \"\") {\n",
    "    private var _manufacturer = manufacturer\n",
    "    private var _modelName = modelName\n",
    "    private var _modelYear = modelYear\n",
    "    var license = licensePlace\n",
    "}\n",
    "var myCar = new Car(\"Toyota\", \"Camry\")\n",
    "var myCar2 = new Car(\"Toyota\", \"Camry\", 2014, \"1348485\")"
   ]
  },
  {
   "cell_type": "markdown",
   "metadata": {},
   "source": [
    "Comment:<br>\n",
    "My primary construtor is the class body, because it is more convinient than the structure in Java or C++, it can pass down variables and store in the created class directly. "
   ]
  }
 ],
 "metadata": {
  "kernelspec": {
   "display_name": "Scala",
   "language": "scala",
   "name": "scala"
  },
  "language_info": {
   "codemirror_mode": "text/x-scala",
   "file_extension": ".scala",
   "mimetype": "text/x-scala",
   "name": "scala211",
   "nbconvert_exporter": "script",
   "pygments_lexer": "scala",
   "version": "2.11.11"
  }
 },
 "nbformat": 4,
 "nbformat_minor": 2
}
