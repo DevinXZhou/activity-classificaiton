{
 "cells": [
  {
   "cell_type": "markdown",
   "metadata": {},
   "source": [
    "## CS696 Final Project - Predicting the Popularity of Online News\n",
    "Xinyu Zhang 820935369  \n",
    "Xufei Zhao"
   ]
  },
  {
   "cell_type": "markdown",
   "metadata": {},
   "source": [
    "## Description\n",
    "There are two main popularity prediction appproaches: those that use features only known after publication and those that do not use such features. The latter approach is more scarce and, while a lower prediction performance might be expected, the predictions are more useful, allowing (as performed in this work) to improve content prior to publication."
   ]
  },
  {
   "cell_type": "markdown",
   "metadata": {},
   "source": [
    "### Data extraction and processing"
   ]
  },
  {
   "cell_type": "code",
   "execution_count": 1,
   "metadata": {
    "scrolled": true
   },
   "outputs": [
    {
     "name": "stdout",
     "output_type": "stream",
     "text": [
      "root\n",
      " |-- url: string (nullable = true)\n",
      " |-- timedelta: integer (nullable = true)\n",
      " |-- n_tokens_title: integer (nullable = true)\n",
      " |-- n_tokens_content: integer (nullable = true)\n",
      " |-- n_unique_tokens: double (nullable = true)\n",
      " |-- n_non_stop_words: double (nullable = true)\n",
      " |-- n_non_stop_unique_tokens: double (nullable = true)\n",
      " |-- num_hrefs: integer (nullable = true)\n",
      " |-- num_self_hrefs: integer (nullable = true)\n",
      " |-- num_imgs: integer (nullable = true)\n",
      " |-- num_videos: integer (nullable = true)\n",
      " |-- average_token_length: double (nullable = true)\n",
      " |-- num_keywords: integer (nullable = true)\n",
      " |-- data_channel_is_lifestyle: integer (nullable = true)\n",
      " |-- data_channel_is_entertainment: integer (nullable = true)\n",
      " |-- data_channel_is_bus: integer (nullable = true)\n",
      " |-- data_channel_is_socmed: integer (nullable = true)\n",
      " |-- data_channel_is_tech: integer (nullable = true)\n",
      " |-- data_channel_is_world: integer (nullable = true)\n",
      " |-- kw_min_min: integer (nullable = true)\n",
      " |-- kw_max_min: double (nullable = true)\n",
      " |-- kw_avg_min: double (nullable = true)\n",
      " |-- kw_min_max: integer (nullable = true)\n",
      " |-- kw_max_max: integer (nullable = true)\n",
      " |-- kw_avg_max: double (nullable = true)\n",
      " |-- kw_min_avg: double (nullable = true)\n",
      " |-- kw_max_avg: double (nullable = true)\n",
      " |-- kw_avg_avg: double (nullable = true)\n",
      " |-- self_reference_min_shares: double (nullable = true)\n",
      " |-- self_reference_max_shares: double (nullable = true)\n",
      " |-- self_reference_avg_sharess: double (nullable = true)\n",
      " |-- weekday_is_monday: integer (nullable = true)\n",
      " |-- weekday_is_tuesday: integer (nullable = true)\n",
      " |-- weekday_is_wednesday: integer (nullable = true)\n",
      " |-- weekday_is_thursday: integer (nullable = true)\n",
      " |-- weekday_is_friday: integer (nullable = true)\n",
      " |-- weekday_is_saturday: integer (nullable = true)\n",
      " |-- weekday_is_sunday: integer (nullable = true)\n",
      " |-- is_weekend: integer (nullable = true)\n",
      " |-- LDA_00: double (nullable = true)\n",
      " |-- LDA_01: double (nullable = true)\n",
      " |-- LDA_02: double (nullable = true)\n",
      " |-- LDA_03: double (nullable = true)\n",
      " |-- LDA_04: double (nullable = true)\n",
      " |-- global_subjectivity: double (nullable = true)\n",
      " |-- global_sentiment_polarity: double (nullable = true)\n",
      " |-- global_rate_positive_words: double (nullable = true)\n",
      " |-- global_rate_negative_words: double (nullable = true)\n",
      " |-- rate_positive_words: double (nullable = true)\n",
      " |-- rate_negative_words: double (nullable = true)\n",
      " |-- avg_positive_polarity: double (nullable = true)\n",
      " |-- min_positive_polarity: double (nullable = true)\n",
      " |-- max_positive_polarity: double (nullable = true)\n",
      " |-- avg_negative_polarity: double (nullable = true)\n",
      " |-- min_negative_polarity: double (nullable = true)\n",
      " |-- max_negative_polarity: double (nullable = true)\n",
      " |-- title_subjectivity: double (nullable = true)\n",
      " |-- title_sentiment_polarity: double (nullable = true)\n",
      " |-- abs_title_subjectivity: double (nullable = true)\n",
      " |-- abs_title_sentiment_polarity: double (nullable = true)\n",
      " |-- shares: integer (nullable = true)\n",
      "\n",
      "+--------------------+---------+--------------+----------------+---------------+----------------+------------------------+---------+--------------+--------+----------+--------------------+------------+-------------------------+-----------------------------+-------------------+----------------------+--------------------+---------------------+----------+----------+----------+----------+----------+----------+----------+----------+----------+-------------------------+-------------------------+--------------------------+-----------------+------------------+--------------------+-------------------+-----------------+-------------------+-----------------+----------+-----------+----------+-----------+-----------+-----------+-------------------+-------------------------+--------------------------+--------------------------+-------------------+-------------------+---------------------+---------------------+---------------------+---------------------+---------------------+---------------------+------------------+------------------------+----------------------+----------------------------+------+\n",
      "|                 url|timedelta|n_tokens_title|n_tokens_content|n_unique_tokens|n_non_stop_words|n_non_stop_unique_tokens|num_hrefs|num_self_hrefs|num_imgs|num_videos|average_token_length|num_keywords|data_channel_is_lifestyle|data_channel_is_entertainment|data_channel_is_bus|data_channel_is_socmed|data_channel_is_tech|data_channel_is_world|kw_min_min|kw_max_min|kw_avg_min|kw_min_max|kw_max_max|kw_avg_max|kw_min_avg|kw_max_avg|kw_avg_avg|self_reference_min_shares|self_reference_max_shares|self_reference_avg_sharess|weekday_is_monday|weekday_is_tuesday|weekday_is_wednesday|weekday_is_thursday|weekday_is_friday|weekday_is_saturday|weekday_is_sunday|is_weekend|     LDA_00|    LDA_01|     LDA_02|     LDA_03|     LDA_04|global_subjectivity|global_sentiment_polarity|global_rate_positive_words|global_rate_negative_words|rate_positive_words|rate_negative_words|avg_positive_polarity|min_positive_polarity|max_positive_polarity|avg_negative_polarity|min_negative_polarity|max_negative_polarity|title_subjectivity|title_sentiment_polarity|abs_title_subjectivity|abs_title_sentiment_polarity|shares|\n",
      "+--------------------+---------+--------------+----------------+---------------+----------------+------------------------+---------+--------------+--------+----------+--------------------+------------+-------------------------+-----------------------------+-------------------+----------------------+--------------------+---------------------+----------+----------+----------+----------+----------+----------+----------+----------+----------+-------------------------+-------------------------+--------------------------+-----------------+------------------+--------------------+-------------------+-----------------+-------------------+-----------------+----------+-----------+----------+-----------+-----------+-----------+-------------------+-------------------------+--------------------------+--------------------------+-------------------+-------------------+---------------------+---------------------+---------------------+---------------------+---------------------+---------------------+------------------+------------------------+----------------------+----------------------------+------+\n",
      "|http://mashable.c...|      731|            12|             219|    0.663594467|     0.999999992|             0.815384609|        4|             2|       1|         0|         4.680365297|           5|                        0|                            1|                  0|                     0|                   0|                    0|         0|       0.0|       0.0|         0|         0|       0.0|       0.0|       0.0|       0.0|                    496.0|                    496.0|                     496.0|                1|                 0|                   0|                  0|                0|                  0|                0|         0|0.500331204|0.37827893|0.040004675|0.041262648|0.040122544|        0.521617145|              0.092561983|                 0.0456621|                0.01369863|        0.769230769|        0.230769231|          0.378636364|                  0.1|                  0.7|                -0.35|                 -0.6|                 -0.2|               0.5|                 -0.1875|                   0.0|                      0.1875|   593|\n",
      "+--------------------+---------+--------------+----------------+---------------+----------------+------------------------+---------+--------------+--------+----------+--------------------+------------+-------------------------+-----------------------------+-------------------+----------------------+--------------------+---------------------+----------+----------+----------+----------+----------+----------+----------+----------+----------+-------------------------+-------------------------+--------------------------+-----------------+------------------+--------------------+-------------------+-----------------+-------------------+-----------------+----------+-----------+----------+-----------+-----------+-----------+-------------------+-------------------------+--------------------------+--------------------------+-------------------+-------------------+---------------------+---------------------+---------------------+---------------------+---------------------+---------------------+------------------+------------------------+----------------------+----------------------------+------+\n",
      "only showing top 1 row\n",
      "\n"
     ]
    },
    {
     "data": {
      "text/plain": [
       "rawData = [url: string, timedelta: int ... 59 more fields]\n"
      ]
     },
     "metadata": {},
     "output_type": "display_data"
    },
    {
     "data": {
      "text/plain": [
       "lastException: Throwable = null\n"
      ]
     },
     "metadata": {},
     "output_type": "display_data"
    },
    {
     "data": {
      "text/plain": [
       "[url: string, timedelta: int ... 59 more fields]"
      ]
     },
     "execution_count": 1,
     "metadata": {},
     "output_type": "execute_result"
    }
   ],
   "source": [
    "import org.apache.spark.sql.functions._\n",
    "\n",
    "val rawData = spark.read.format(\"csv\").option(\"inferSchema\",true).option(\"header\",true).load(\"news.csv\")\n",
    "rawData.printSchema\n",
    "rawData.show(1)"
   ]
  },
  {
   "cell_type": "markdown",
   "metadata": {},
   "source": [
    "### Binary Classification task\n",
    "We assume a binary classification task, where an article is considered \"popular\" if the number of shares is higher than a fixed decision threshold(1400), else it is considered \"unpopular\""
   ]
  },
  {
   "cell_type": "code",
   "execution_count": 2,
   "metadata": {
    "scrolled": true
   },
   "outputs": [
    {
     "name": "stdout",
     "output_type": "stream",
     "text": [
      "+------+----------+\n",
      "|shares|popularity|\n",
      "+------+----------+\n",
      "|   593|         0|\n",
      "|   711|         0|\n",
      "|  1500|         1|\n",
      "|  1200|         0|\n",
      "|   505|         0|\n",
      "+------+----------+\n",
      "only showing top 5 rows\n",
      "\n"
     ]
    },
    {
     "data": {
      "text/plain": [
       "popularityDf = [url: string, timedelta: int ... 60 more fields]\n"
      ]
     },
     "metadata": {},
     "output_type": "display_data"
    },
    {
     "data": {
      "text/plain": [
       "[url: string, timedelta: int ... 60 more fields]"
      ]
     },
     "execution_count": 2,
     "metadata": {},
     "output_type": "execute_result"
    }
   ],
   "source": [
    "val popularityDf = rawData.withColumn(\"popularity\", when(col(\"shares\") >= 1400,1).otherwise(0))\n",
    "popularityDf.select(\"shares\",\"popularity\").show(5)"
   ]
  },
  {
   "cell_type": "markdown",
   "metadata": {},
   "source": [
    "### Feature Extraction\n",
    "We extracted 47 features for learning models\n",
    "List of attributes by category:\n",
    "- Words\n",
    "- Links, \n",
    "- Digital Media\n",
    "- Time\n",
    "- Keywords\n",
    "- Natural Language Processing\n",
    "- Target"
   ]
  },
  {
   "cell_type": "code",
   "execution_count": 3,
   "metadata": {},
   "outputs": [
    {
     "name": "stdout",
     "output_type": "stream",
     "text": [
      "+----------+\n",
      "|popularity|\n",
      "+----------+\n",
      "|         0|\n",
      "|         0|\n",
      "|         1|\n",
      "+----------+\n",
      "only showing top 3 rows\n",
      "\n"
     ]
    },
    {
     "data": {
      "text/plain": [
       "newsDf = [popularity: int, n_tokens_title: int ... 44 more fields]\n"
      ]
     },
     "metadata": {},
     "output_type": "display_data"
    },
    {
     "data": {
      "text/plain": [
       "[popularity: int, n_tokens_title: int ... 44 more fields]"
      ]
     },
     "execution_count": 3,
     "metadata": {},
     "output_type": "execute_result"
    }
   ],
   "source": [
    "val newsDf = popularityDf.select(\"popularity\",\n",
    "                          \"n_tokens_title\",\"n_tokens_content\",\"average_token_length\",\"n_non_stop_words\",\"n_unique_tokens\",\"n_non_stop_unique_tokens\",\n",
    "                          \"num_hrefs\",\"num_self_hrefs\",\"self_reference_min_shares\",\"self_reference_max_shares\",\"self_reference_avg_sharess\",\n",
    "                          \"num_imgs\",\"num_videos\",\n",
    "                          \"is_weekend\",\n",
    "                          \"num_keywords\",\"kw_min_min\",\"kw_max_min\",\"kw_avg_min\",\"kw_min_max\",\"kw_max_max\",\"kw_avg_max\",\"kw_min_avg\",\"kw_max_avg\",\"kw_avg_avg\",\n",
    "                          \"LDA_00\",\"LDA_01\",\"LDA_02\",\"LDA_03\",\"LDA_04\",\n",
    "                          \"global_subjectivity\",\"title_subjectivity\",\"abs_title_subjectivity\",\"global_sentiment_polarity\",\"title_sentiment_polarity\",\"abs_title_sentiment_polarity\",\n",
    "                          \"rate_positive_words\",\"rate_positive_words\",\"global_rate_positive_words\",\"global_rate_negative_words\",\n",
    "                          \"avg_positive_polarity\",\"min_positive_polarity\",\"max_positive_polarity\",\n",
    "                          \"avg_negative_polarity\",\"min_negative_polarity\",\"max_negative_polarity\")\n",
    "newsDf.select(\"popularity\").show(3)"
   ]
  },
  {
   "cell_type": "markdown",
   "metadata": {},
   "source": [
    "### Random Forest Classification Method\n",
    "rolling window？？？？"
   ]
  },
  {
   "cell_type": "code",
   "execution_count": 4,
   "metadata": {},
   "outputs": [
    {
     "name": "stdout",
     "output_type": "stream",
     "text": [
      "+----------+--------------------+\n",
      "|popularity|            features|\n",
      "+----------+--------------------+\n",
      "|         0|[12.0,219.0,4.680...|\n",
      "|         0|(45,[0,1,2,3,4,5,...|\n",
      "|         1|[9.0,211.0,4.3933...|\n",
      "+----------+--------------------+\n",
      "only showing top 3 rows\n",
      "\n",
      "+----------+--------------------+----------+\n",
      "|popularity|            features|prediction|\n",
      "+----------+--------------------+----------+\n",
      "|         0|[4.0,348.0,4.7442...|       1.0|\n",
      "|         0|[4.0,359.0,4.6100...|       1.0|\n",
      "|         0|[5.0,119.0,4.8235...|       0.0|\n",
      "|         0|[5.0,140.0,5.1785...|       1.0|\n",
      "|         0|[5.0,213.0,4.7136...|       0.0|\n",
      "|         0|[5.0,271.0,4.9077...|       1.0|\n",
      "|         0|[5.0,277.0,4.7978...|       0.0|\n",
      "|         0|[5.0,308.0,4.8149...|       1.0|\n",
      "|         0|[5.0,348.0,4.7155...|       1.0|\n",
      "|         0|[5.0,490.0,4.7142...|       0.0|\n",
      "|         0|[5.0,543.0,4.7053...|       1.0|\n",
      "|         0|[5.0,1302.0,4.721...|       1.0|\n",
      "|         0|[6.0,73.0,4.30136...|       0.0|\n",
      "|         0|[6.0,118.0,5.2033...|       1.0|\n",
      "|         0|[6.0,141.0,4.2127...|       0.0|\n",
      "|         0|[6.0,143.0,4.4895...|       0.0|\n",
      "|         0|[6.0,154.0,4.5584...|       1.0|\n",
      "|         0|[6.0,158.0,4.4493...|       0.0|\n",
      "|         0|[6.0,197.0,4.8527...|       0.0|\n",
      "|         0|[6.0,209.0,4.4928...|       1.0|\n",
      "+----------+--------------------+----------+\n",
      "only showing top 20 rows\n",
      "\n",
      "Test Accuracy = 0.6329043407740161\n",
      "Test Error = 0.36709565922598386\n"
     ]
    },
    {
     "data": {
      "text/plain": [
       "assembler = vecAssembler_1080c1d1301e\n",
       "assembledData = [popularity: int, n_tokens_title: int ... 45 more fields]\n",
       "trainingData = [popularity: int, n_tokens_title: int ... 45 more fields]\n",
       "testData = [popularity: int, n_tokens_title: int ... 45 more fields]\n",
       "rf = rfc_5d4ef57fddf7\n"
      ]
     },
     "metadata": {},
     "output_type": "display_data"
    },
    {
     "data": {
      "text/plain": [
       "rfModel: org.apache.spark.ml.classification.Random...\n"
      ]
     },
     "metadata": {},
     "output_type": "display_data"
    },
    {
     "data": {
      "text/plain": [
       "rfc_5d4ef57fddf7"
      ]
     },
     "execution_count": 4,
     "metadata": {},
     "output_type": "execute_result"
    }
   ],
   "source": [
    "import org.apache.spark.ml.feature.VectorAssembler\n",
    "import org.apache.spark.ml.classification.{RandomForestClassificationModel, RandomForestClassifier}\n",
    "import org.apache.spark.ml.evaluation.MulticlassClassificationEvaluator\n",
    "\n",
    "val assembler = new VectorAssembler().setInputCols(Array(\"n_tokens_title\",\"n_tokens_content\",\"average_token_length\",\"n_non_stop_words\",\"n_unique_tokens\",\"n_non_stop_unique_tokens\",\n",
    "                          \"num_hrefs\",\"num_self_hrefs\",\"self_reference_min_shares\",\"self_reference_max_shares\",\"self_reference_avg_sharess\",\n",
    "                          \"num_imgs\",\"num_videos\",\n",
    "                          \"is_weekend\",\n",
    "                          \"num_keywords\",\"kw_min_min\",\"kw_max_min\",\"kw_avg_min\",\"kw_min_max\",\"kw_max_max\",\"kw_avg_max\",\"kw_min_avg\",\"kw_max_avg\",\"kw_avg_avg\",\n",
    "                          \"LDA_00\",\"LDA_01\",\"LDA_02\",\"LDA_03\",\"LDA_04\",\n",
    "                          \"global_subjectivity\",\"title_subjectivity\",\"abs_title_subjectivity\",\"global_sentiment_polarity\",\"title_sentiment_polarity\",\"abs_title_sentiment_polarity\",\n",
    "                          \"rate_positive_words\",\"rate_positive_words\",\"global_rate_positive_words\",\"global_rate_negative_words\",\n",
    "                          \"avg_positive_polarity\",\"min_positive_polarity\",\"max_positive_polarity\",\n",
    "                          \"avg_negative_polarity\",\"min_negative_polarity\",\"max_negative_polarity\")).setOutputCol(\"features\")\n",
    "val assembledData = assembler.transform(newsDf)\n",
    "assembledData.select(\"popularity\",\"features\").show(3)\n",
    "\n",
    "val Array(trainingData, testData) = assembledData.randomSplit(Array(0.7, 0.3))\n",
    "val rf = new RandomForestClassifier().setLabelCol(\"popularity\").setFeaturesCol(\"features\").setNumTrees(10)\n",
    "val rfModel = rf.fit(trainingData)\n",
    "val predictions = rfModel.transform(testData)\n",
    "\n",
    "predictions.select(\"popularity\",\"features\",\"prediction\").show\n",
    "\n",
    "val evaluator = new MulticlassClassificationEvaluator().setLabelCol(\"popularity\").setPredictionCol(\"prediction\")\n",
    "val predictionsAndLabels = predictions.select(\"prediction\", \"popularity\").as[(Double, Double)].rdd\n",
    "val myMatrix = new MulticlassMetrics(predictionsAndLabels)\n",
    "\n",
    "val accuracy = evaluator.evaluate(predictions)\n",
    "println(\"Test Accuracy = \" + accuracy)\n",
    "println(\"Test Error = \" + (1.0 - accuracy))\n"
   ]
  },
  {
   "cell_type": "markdown",
   "metadata": {},
   "source": [
    "### Further to do"
   ]
  },
  {
   "cell_type": "markdown",
   "metadata": {},
   "source": [
    "- AddBoost Method?\n",
    "- KNN Method?\n",
    "- Compare the best accuracy then save the model?\n",
    "- Accuracy, Precision, Recall, F1, AUC?"
   ]
  },
  {
   "cell_type": "code",
   "execution_count": null,
   "metadata": {
    "collapsed": true
   },
   "outputs": [],
   "source": []
  }
 ],
 "metadata": {
  "kernelspec": {
   "display_name": "Spark - Scala",
   "language": "scala",
   "name": "spark_scala"
  },
  "language_info": {
   "codemirror_mode": "text/x-scala",
   "file_extension": ".scala",
   "mimetype": "text/x-scala",
   "name": "scala",
   "pygments_lexer": "scala",
   "version": "2.11.8"
  }
 },
 "nbformat": 4,
 "nbformat_minor": 2
}
